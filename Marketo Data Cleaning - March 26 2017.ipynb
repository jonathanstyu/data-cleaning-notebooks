{
 "cells": [
  {
   "cell_type": "code",
   "execution_count": 113,
   "metadata": {
    "collapsed": false
   },
   "outputs": [],
   "source": [
    "import pandas as pd\n",
    "import os\n",
    "import datetime"
   ]
  },
  {
   "cell_type": "markdown",
   "metadata": {},
   "source": [
    "excel = pd.ExcelFile('~/Downloads/Presentation.xlsx')\n",
    "excel.sheet_names\n",
    "hotel_leads_all_time = excel.parse('hotel leads all time')\n",
    "net_leads_q1 = excel.parse('Net_Leads Q1-source')"
   ]
  },
  {
   "cell_type": "markdown",
   "metadata": {},
   "source": []
  },
  {
   "cell_type": "code",
   "execution_count": 123,
   "metadata": {
    "collapsed": true
   },
   "outputs": [],
   "source": [
    "all_leads = pd.DataFrame.from_csv('~/Downloads/Net_Leads.csv', parse_dates=True, index_col=None)"
   ]
  },
  {
   "cell_type": "code",
   "execution_count": 132,
   "metadata": {
    "collapsed": false,
    "scrolled": true
   },
   "outputs": [
    {
     "data": {
      "text/plain": [
       "['Id',\n",
       " 'Company Name',\n",
       " 'Business Vertical',\n",
       " 'Life Cycle Status',\n",
       " 'Lead Status',\n",
       " 'Lead Source',\n",
       " 'Lead Source Detail',\n",
       " 'Updated At',\n",
       " 'Created At',\n",
       " 'utm_content',\n",
       " 'Country',\n",
       " 'Registration Source Info',\n",
       " 'Original Referrer']"
      ]
     },
     "execution_count": 132,
     "metadata": {},
     "output_type": "execute_result"
    }
   ],
   "source": [
    "list(all_leads)"
   ]
  },
  {
   "cell_type": "code",
   "execution_count": 131,
   "metadata": {
    "collapsed": false
   },
   "outputs": [],
   "source": [
    "# Check work by looking for nans\n",
    "\n",
    "all_leads.loc[all_leads['Original Referrer']=='http://m.facebook.com']"
   ]
  },
  {
   "cell_type": "code",
   "execution_count": 104,
   "metadata": {
    "collapsed": true
   },
   "outputs": [],
   "source": [
    "trips = [\n",
    "    ('android-app://com.linkedin.android', 'Advertising', 'LinkedIn - assumed'),\n",
    "    ('android-app://m.facebook.com', 'Advertising', 'Facebook - assumed'),\n",
    "    ('http://instagram.com/', 'Advertising', 'Facebook - assumed'),\n",
    "    ('http://m.facebook.com', 'Advertising', 'Facebook - assumed'),\n",
    "    ('http://m.facebook.com/', 'Advertising', 'Facebook - assumed'),\n",
    "    ('https://web.facebook.com/', 'Advertising', 'Facebook - assumed'),\n",
    "    ('https://www.bing.com/', 'Advertising', 'Facebook - assumed'),\n",
    "    ('https://www.facebook.com', 'Advertising', 'Facebook - assumed'),\n",
    "    ('http://www.sojern.com/ebook/creating-a-website-that-converts-sp?utm_source=facebook&utm_medium=cpc&utm_content=ebook-website-converts-sp&utm_campaign=fb-sponsored-posts-gated-global', 'Advertising', 'Facebook - assumed'),\n",
    "    ('http://www.sojern.com/travel-insights/2017-hotel-report-signup?utm_source=facebook&utm_medium=cpc&utm_content=2017-google-hotel-report&utm_campaign=fb-sponsored-posts-gated-global', 'Advertising', 'Facebook - assumed'),\n",
    "    ('https://l.facebook.com/', 'Advertising', 'Facebook - assumed'),\n",
    "    ('https://m.facebook.com/', 'Advertising', 'Facebook - assumed'),\n",
    "    ('https://www.facebook.com/', 'Advertising', 'Facebook - assumed'),\n",
    "    ('https://www.google.com/', 'Website', ''),\n",
    "    ('https://www.linkedin.com/', 'Website', ''),\n",
    "]\n",
    "\n",
    "matches = [\n",
    "    ('http://www.sojern.com/webinars', 'Webinar', ''),\n",
    "    ('http://www.sojern.com', 'Website', 'Assumed'),\n",
    "    ('http://solutions.sojern.com', 'Website', 'Assumed'),\n",
    "    ('http://sojernmail.sojern.com', 'Website', 'Assumed'),\n",
    "    ('http://es.sojern.com', 'Website', 'Assumed'),\n",
    "    ('https://www.google.com', 'Advertising', 'Google - Assumed'),\n",
    "    ('http://hotelmarketing.com', 'Advertising', 'Hotel Marketing.com - Assumed')\n",
    "]"
   ]
  },
  {
   "cell_type": "markdown",
   "metadata": {},
   "source": [
    "Reference docs: \n",
    "\n",
    "http://stackoverflow.com/questions/37400246/pandas-update-multiple-columns-at-once\n",
    "http://stackoverflow.com/questions/22291565/pandas-text-matching-like-sqls-like"
   ]
  },
  {
   "cell_type": "code",
   "execution_count": 126,
   "metadata": {
    "collapsed": true
   },
   "outputs": [],
   "source": [
    "# Exact matches for more accurate matching\n",
    "\n",
    "for trip in trips: \n",
    "    all_leads.loc[\n",
    "        (all_leads['Original Referrer']==trip[0]) & \n",
    "        (all_leads['Lead Source'].isnull()) , \n",
    "        ['Lead Source', 'Lead Source Detail']\n",
    "    ] = [trip[1], trip[2]]\n"
   ]
  },
  {
   "cell_type": "code",
   "execution_count": 127,
   "metadata": {
    "collapsed": true
   },
   "outputs": [],
   "source": [
    "# Run a \"startswith\" match so that we can match those random URLs\n",
    "\n",
    "for match in matches: \n",
    "    all_leads.loc[\n",
    "        (all_leads['Original Referrer'].str.startswith(match[0])) & \n",
    "        (all_leads['Lead Source'].isnull()) , \n",
    "        ['Lead Source', 'Lead Source Detail']\n",
    "    ] = [match[1], match[2]]\n"
   ]
  },
  {
   "cell_type": "code",
   "execution_count": 128,
   "metadata": {
    "collapsed": false
   },
   "outputs": [],
   "source": [
    "# Clean up the last stragglers for the lead source data\n",
    "\n",
    "all_leads.loc[\n",
    "        all_leads['Lead Source'].isnull() , \n",
    "        ['Lead Source', 'Lead Source Detail']\n",
    "] = ['Other', 'Uncategorized']"
   ]
  },
  {
   "cell_type": "code",
   "execution_count": 129,
   "metadata": {
    "collapsed": false
   },
   "outputs": [],
   "source": [
    "# This is to replace the utm_content if it is empty the registration source info form\n",
    "\n",
    "all_leads.loc[\n",
    "        (all_leads['utm_content'].isnull()) , \n",
    "        'utm_content'\n",
    "    ] = all_leads['Registration Source Info']"
   ]
  },
  {
   "cell_type": "code",
   "execution_count": 130,
   "metadata": {
    "collapsed": false
   },
   "outputs": [],
   "source": [
    "# Export \n",
    "\n",
    "all_leads.to_csv('~/Desktop/net_leads_parse.csv')"
   ]
  }
 ],
 "metadata": {
  "anaconda-cloud": {},
  "kernelspec": {
   "display_name": "Python 3",
   "language": "python",
   "name": "python3"
  },
  "language_info": {
   "codemirror_mode": {
    "name": "ipython",
    "version": 3
   },
   "file_extension": ".py",
   "mimetype": "text/x-python",
   "name": "python",
   "nbconvert_exporter": "python",
   "pygments_lexer": "ipython3",
   "version": "3.5.2"
  }
 },
 "nbformat": 4,
 "nbformat_minor": 1
}
